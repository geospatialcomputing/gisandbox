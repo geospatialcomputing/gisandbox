{
 "cells": [
  {
   "cell_type": "markdown",
   "id": "fae7f07f-4b7f-4d18-8704-7d5e56745712",
   "metadata": {},
   "source": [
    "By default this launches as a Jupyter Notebook because ....\n",
    "\n",
    "If you desire to switch to the JupyterLab interface click [here](../lab/tree/Welcome.ipynb)\n",
    "\n",
    "If you are already in the JupyterLab interface and desire to switch to classic Notebook interface click [here](../../notebooks/Welcome.ipynb)"
   ]
  },
  {
   "cell_type": "code",
   "execution_count": null,
   "id": "05f299a4-6a2d-41b4-9f35-a19e63564820",
   "metadata": {},
   "outputs": [],
   "source": []
  }
 ],
 "metadata": {
  "kernelspec": {
   "display_name": "Python 3 (ipykernel)",
   "language": "python",
   "name": "python3"
  },
  "language_info": {
   "codemirror_mode": {
    "name": "ipython",
    "version": 3
   },
   "file_extension": ".py",
   "mimetype": "text/x-python",
   "name": "python",
   "nbconvert_exporter": "python",
   "pygments_lexer": "ipython3",
   "version": "3.7.12"
  }
 },
 "nbformat": 4,
 "nbformat_minor": 5
}
